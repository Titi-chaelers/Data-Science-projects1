{
 "cells": [
  {
   "cell_type": "code",
   "execution_count": 1,
   "id": "0169f97e",
   "metadata": {},
   "outputs": [
    {
     "name": "stdout",
     "output_type": "stream",
     "text": [
      "Welcome to the birthday dictionary. We know the birthdays of:\n",
      "Daniel Oluwatosin\n",
      "Deborah Oluwasekemi\n",
      "Joshua Adeboye\n",
      "Bukola Balogun\n",
      "Andrew Sholagade\n",
      "Who's birthday do you want to look up?\n",
      "Joshua Adeboye\n",
      "Joshua Adeboye's birthday is 09/08/1990.\n"
     ]
    }
   ],
   "source": [
    "if __name__ == '__main__':\n",
    "\n",
    "    birthdays = {\n",
    "        'Daniel Oluwatosin': '05/17/1981',\n",
    "        'Deborah Oluwasekemi': '11/20/1986',\n",
    "        'Joshua Adeboye': '09/08/1990',\n",
    "        'Bukola Balogun': '06/14/1975',\n",
    "        'Andrew Sholagade': '01/6/1980'}\n",
    "\n",
    "    print('Welcome to the birthday dictionary. We know the birthdays of:')\n",
    "    for name in birthdays:\n",
    "        print(name)\n",
    "\n",
    "    print('Who\\'s birthday do you want to look up?')\n",
    "    name = input()\n",
    "    if name in birthdays:\n",
    "        print('{}\\'s birthday is {}.'.format(name, birthdays[name]))\n",
    "    else:\n",
    "        print('Sadly, we don\\'t have {}\\'s birthday.'.format(name))\n"
   ]
  },
  {
   "cell_type": "code",
   "execution_count": null,
   "id": "eee7e03f",
   "metadata": {},
   "outputs": [],
   "source": []
  }
 ],
 "metadata": {
  "kernelspec": {
   "display_name": "Python 3 (ipykernel)",
   "language": "python",
   "name": "python3"
  },
  "language_info": {
   "codemirror_mode": {
    "name": "ipython",
    "version": 3
   },
   "file_extension": ".py",
   "mimetype": "text/x-python",
   "name": "python",
   "nbconvert_exporter": "python",
   "pygments_lexer": "ipython3",
   "version": "3.11.3"
  }
 },
 "nbformat": 4,
 "nbformat_minor": 5
}
