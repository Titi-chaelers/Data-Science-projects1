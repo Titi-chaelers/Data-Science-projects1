{
    "metadata": {
        "kernelspec": {
            "name": "SQL",
            "display_name": "SQL",
            "language": "sql"
        },
        "language_info": {
            "name": "sql",
            "version": ""
        }
    },
    "nbformat_minor": 2,
    "nbformat": 4,
    "cells": [
        {
            "cell_type": "code",
            "source": [
                "import pandas as pd\n",
                "import matplotlib as pyplot\n",
                "import seaborn as sns\n",
                "import matplotlib.pyplot as plt\n",
                "import pandas as pd\n",
                "from sklearn.preprocessing import LabelEncoder"
            ],
            "metadata": {
                "azdata_cell_guid": "ece863df-c2ae-4f7a-8d61-39c3d10d8ba2",
                "language": "sql"
            },
            "outputs": [],
            "execution_count": 1
        },
        {
            "cell_type": "markdown",
            "source": [
                "Read in the data"
            ],
            "metadata": {
                "azdata_cell_guid": "f825926c-8af1-4b3a-b621-7fd3c2b6f5de"
            }
        },
        {
            "cell_type": "code",
            "source": [
                "df=pd.read_csv(\"https://raw.githubusercontent.com/agconti/kaggle-titanic/master/data/train.csv\")\n",
                "\n",
                "print(df)"
            ],
            "metadata": {
                "azdata_cell_guid": "29f38a0e-4194-43a5-bc9b-61ca0cbb0333",
                "language": "sql"
            },
            "outputs": [
                {
                    "output_type": "stream",
                    "name": "stdout",
                    "text": "     PassengerId  Survived  Pclass  \\\n0              1         0       3   \n1              2         1       1   \n2              3         1       3   \n3              4         1       1   \n4              5         0       3   \n..           ...       ...     ...   \n886          887         0       2   \n887          888         1       1   \n888          889         0       3   \n889          890         1       1   \n890          891         0       3   \n\n                                                  Name     Sex   Age  SibSp  \\\n0                              Braund, Mr. Owen Harris    male  22.0      1   \n1    Cumings, Mrs. John Bradley (Florence Briggs Th...  female  38.0      1   \n2                               Heikkinen, Miss. Laina  female  26.0      0   \n3         Futrelle, Mrs. Jacques Heath (Lily May Peel)  female  35.0      1   \n4                             Allen, Mr. William Henry    male  35.0      0   \n..                                                 ...     ...   ...    ...   \n886                              Montvila, Rev. Juozas    male  27.0      0   \n887                       Graham, Miss. Margaret Edith  female  19.0      0   \n888           Johnston, Miss. Catherine Helen \"Carrie\"  female   NaN      1   \n889                              Behr, Mr. Karl Howell    male  26.0      0   \n890                                Dooley, Mr. Patrick    male  32.0      0   \n\n     Parch            Ticket     Fare Cabin Embarked  \n0        0         A/5 21171   7.2500   NaN        S  \n1        0          PC 17599  71.2833   C85        C  \n2        0  STON/O2. 3101282   7.9250   NaN        S  \n3        0            113803  53.1000  C123        S  \n4        0            373450   8.0500   NaN        S  \n..     ...               ...      ...   ...      ...  \n886      0            211536  13.0000   NaN        S  \n887      0            112053  30.0000   B42        S  \n888      2        W./C. 6607  23.4500   NaN        S  \n889      0            111369  30.0000  C148        C  \n890      0            370376   7.7500   NaN        Q  \n\n[891 rows x 12 columns]\n"
                }
            ],
            "execution_count": 2
        },
        {
            "cell_type": "code",
            "source": [
                "df.dtypes\n"
            ],
            "metadata": {
                "azdata_cell_guid": "0c4a1f3b-ea84-4200-9936-d4a7939da33f",
                "language": "sql"
            },
            "outputs": [
                {
                    "output_type": "execute_result",
                    "execution_count": 3,
                    "data": {
                        "text/plain": "PassengerId      int64\nSurvived         int64\nPclass           int64\nName            object\nSex             object\nAge            float64\nSibSp            int64\nParch            int64\nTicket          object\nFare           float64\nCabin           object\nEmbarked        object\ndtype: object"
                    },
                    "metadata": {}
                }
            ],
            "execution_count": 3
        },
        {
            "cell_type": "markdown",
            "source": [
                "boxplot is a visualization tool for identifying outliers, it displays the distribution of statistical observations, its body is classified into four parts; the lowest and the highest(minimum and maximum), the 25 percentile(first quartile(Q1)), the median(50th percentile), the 75th percentile(third quartile(Q3))."
            ],
            "metadata": {
                "azdata_cell_guid": "371fcc70-9978-413c-b60f-ddf3ddcc9f3d"
            }
        },
        {
            "cell_type": "markdown",
            "source": [
                "plots the boxplot with the code below"
            ],
            "metadata": {
                "azdata_cell_guid": "2bc7fd67-bd98-4a27-b710-88aa8d1ef494"
            }
        },
        {
            "cell_type": "code",
            "source": [
                "import seaborn as sns\n",
                "import pandas as pd\n",
                "data = pd.read_csv(\"https://raw.githubusercontent.com/agconti/kaggle-titanic/master/data/train.csv\")\n",
                "sns.boxplot(data=data)\n",
                "plt.show()"
            ],
            "metadata": {
                "scrolled": true,
                "azdata_cell_guid": "88ebf756-8988-4a4e-a6f8-a04a2cd3cc93",
                "language": "sql"
            },
            "outputs": [
                {
                    "output_type": "display_data",
                    "data": {
                        "image/png": "[encoded data removed]",
                        "text/plain": "<Figure size 640x480 with 1 Axes>"
                    },
                    "metadata": {}
                }
            ],
            "execution_count": 4
        },
        {
            "cell_type": "code",
            "source": [
                "data= pd.read_csv(\"C:\\\\Users\\\\TITILAYO\\\\Downloads\\\\Passengerid.CSV\")\n",
                "data"
            ],
            "metadata": {
                "azdata_cell_guid": "571bd06f-de97-4672-b2a1-9cdc5177aa78",
                "language": "sql"
            },
            "outputs": [
                {
                    "output_type": "execute_result",
                    "execution_count": 5,
                    "data": {
                        "text/html": "<div>\n<style scoped>\n    .dataframe tbody tr th:only-of-type {\n        vertical-align: middle;\n    }\n\n    .dataframe tbody tr th {\n        vertical-align: top;\n    }\n\n    .dataframe thead th {\n        text-align: right;\n    }\n</style>\n<table border=\"1\" class=\"dataframe\">\n  <thead>\n    <tr style=\"text-align: right;\">\n      <th></th>\n      <th>PassengerId</th>\n    </tr>\n  </thead>\n  <tbody>\n    <tr>\n      <th>0</th>\n      <td>1</td>\n    </tr>\n    <tr>\n      <th>1</th>\n      <td>2</td>\n    </tr>\n    <tr>\n      <th>2</th>\n      <td>3</td>\n    </tr>\n    <tr>\n      <th>3</th>\n      <td>4</td>\n    </tr>\n    <tr>\n      <th>4</th>\n      <td>5</td>\n    </tr>\n    <tr>\n      <th>...</th>\n      <td>...</td>\n    </tr>\n    <tr>\n      <th>886</th>\n      <td>887</td>\n    </tr>\n    <tr>\n      <th>887</th>\n      <td>888</td>\n    </tr>\n    <tr>\n      <th>888</th>\n      <td>889</td>\n    </tr>\n    <tr>\n      <th>889</th>\n      <td>890</td>\n    </tr>\n    <tr>\n      <th>890</th>\n      <td>891</td>\n    </tr>\n  </tbody>\n</table>\n<p>891 rows × 1 columns</p>\n</div>",
                        "text/plain": "     PassengerId\n0              1\n1              2\n2              3\n3              4\n4              5\n..           ...\n886          887\n887          888\n888          889\n889          890\n890          891\n\n[891 rows x 1 columns]"
                    },
                    "metadata": {}
                }
            ],
            "execution_count": 5
        },
        {
            "cell_type": "code",
            "source": [
                "import seaborn as sns\n",
                "import pandas as pd\n",
                "data= pd.read_csv(\"C:\\\\Users\\\\TITILAYO\\\\Downloads\\\\Passengerid.CSV\")\n",
                "sns.boxplot(data=data)\n",
                "plt.show()"
            ],
            "metadata": {
                "azdata_cell_guid": "e551814a-e0fa-430e-b4d6-03adeb4e54cb",
                "language": "sql"
            },
            "outputs": [
                {
                    "output_type": "display_data",
                    "data": {
                        "image/png": "[encoded data removed]",
                        "text/plain": "<Figure size 640x480 with 1 Axes>"
                    },
                    "metadata": {}
                }
            ],
            "execution_count": 5
        },
        {
            "cell_type": "code",
            "source": [
                "data= pd.read_csv(\"C:\\\\Users\\\\TITILAYO\\\\Downloads\\\\survived.CSV\")\n",
                "data"
            ],
            "metadata": {
                "scrolled": true,
                "azdata_cell_guid": "f505fd3d-0adb-49ee-a553-0c1943efa673",
                "language": "sql"
            },
            "outputs": [
                {
                    "output_type": "execute_result",
                    "execution_count": 7,
                    "data": {
                        "text/html": "<div>\n<style scoped>\n    .dataframe tbody tr th:only-of-type {\n        vertical-align: middle;\n    }\n\n    .dataframe tbody tr th {\n        vertical-align: top;\n    }\n\n    .dataframe thead th {\n        text-align: right;\n    }\n</style>\n<table border=\"1\" class=\"dataframe\">\n  <thead>\n    <tr style=\"text-align: right;\">\n      <th></th>\n      <th>Survived</th>\n    </tr>\n  </thead>\n  <tbody>\n    <tr>\n      <th>0</th>\n      <td>0</td>\n    </tr>\n    <tr>\n      <th>1</th>\n      <td>1</td>\n    </tr>\n    <tr>\n      <th>2</th>\n      <td>1</td>\n    </tr>\n    <tr>\n      <th>3</th>\n      <td>1</td>\n    </tr>\n    <tr>\n      <th>4</th>\n      <td>0</td>\n    </tr>\n    <tr>\n      <th>...</th>\n      <td>...</td>\n    </tr>\n    <tr>\n      <th>886</th>\n      <td>0</td>\n    </tr>\n    <tr>\n      <th>887</th>\n      <td>1</td>\n    </tr>\n    <tr>\n      <th>888</th>\n      <td>0</td>\n    </tr>\n    <tr>\n      <th>889</th>\n      <td>1</td>\n    </tr>\n    <tr>\n      <th>890</th>\n      <td>0</td>\n    </tr>\n  </tbody>\n</table>\n<p>891 rows × 1 columns</p>\n</div>",
                        "text/plain": "     Survived\n0           0\n1           1\n2           1\n3           1\n4           0\n..        ...\n886         0\n887         1\n888         0\n889         1\n890         0\n\n[891 rows x 1 columns]"
                    },
                    "metadata": {}
                }
            ],
            "execution_count": 7
        },
        {
            "cell_type": "code",
            "source": [
                "import seaborn as sns\n",
                "import pandas as pd\n",
                "data= pd.read_csv(\"C:\\\\Users\\\\TITILAYO\\\\Downloads\\\\survived.CSV\")\n",
                "sns.boxplot(data=data)\n",
                "plt.show()"
            ],
            "metadata": {
                "scrolled": false,
                "azdata_cell_guid": "e8ff354b-494d-4161-96c2-6d5ccd23be23",
                "language": "sql"
            },
            "outputs": [
                {
                    "output_type": "display_data",
                    "data": {
                        "image/png": "[encoded data removed]",
                        "text/plain": "<Figure size 640x480 with 1 Axes>"
                    },
                    "metadata": {}
                }
            ],
            "execution_count": 8
        },
        {
            "cell_type": "code",
            "source": [
                "import seaborn as sns\n",
                "import pandas as pd\n",
                "data= pd.read_csv(\"C:\\\\Users\\\\TITILAYO\\\\Downloads\\\\Pclass.CSV\")\n",
                "sns.boxplot(data=data)\n",
                "plt.show()"
            ],
            "metadata": {
                "scrolled": true,
                "azdata_cell_guid": "bacf1324-8434-405c-8d7e-d7b1b404c522",
                "language": "sql"
            },
            "outputs": [
                {
                    "output_type": "display_data",
                    "data": {
                        "image/png": "[encoded data removed]",
                        "text/plain": "<Figure size 640x480 with 1 Axes>"
                    },
                    "metadata": {}
                }
            ],
            "execution_count": 9
        },
        {
            "cell_type": "code",
            "source": [
                "data= pd.read_csv(\"C:\\\\Users\\\\TITILAYO\\\\Downloads\\\\Name.CSV\")\n",
                "data"
            ],
            "metadata": {
                "scrolled": true,
                "azdata_cell_guid": "09d155ac-4647-4157-bec2-333c3ed01f1b",
                "language": "sql"
            },
            "outputs": [
                {
                    "output_type": "execute_result",
                    "execution_count": 10,
                    "data": {
                        "text/html": "<div>\n<style scoped>\n    .dataframe tbody tr th:only-of-type {\n        vertical-align: middle;\n    }\n\n    .dataframe tbody tr th {\n        vertical-align: top;\n    }\n\n    .dataframe thead th {\n        text-align: right;\n    }\n</style>\n<table border=\"1\" class=\"dataframe\">\n  <thead>\n    <tr style=\"text-align: right;\">\n      <th></th>\n      <th>Name</th>\n    </tr>\n  </thead>\n  <tbody>\n    <tr>\n      <th>0</th>\n      <td>Braund, Mr. Owen Harris</td>\n    </tr>\n    <tr>\n      <th>1</th>\n      <td>Cumings, Mrs. John Bradley (Florence Briggs Th...</td>\n    </tr>\n    <tr>\n      <th>2</th>\n      <td>Heikkinen, Miss. Laina</td>\n    </tr>\n    <tr>\n      <th>3</th>\n      <td>Futrelle, Mrs. Jacques Heath (Lily May Peel)</td>\n    </tr>\n    <tr>\n      <th>4</th>\n      <td>Allen, Mr. William Henry</td>\n    </tr>\n    <tr>\n      <th>...</th>\n      <td>...</td>\n    </tr>\n    <tr>\n      <th>886</th>\n      <td>Montvila, Rev. Juozas</td>\n    </tr>\n    <tr>\n      <th>887</th>\n      <td>Graham, Miss. Margaret Edith</td>\n    </tr>\n    <tr>\n      <th>888</th>\n      <td>Johnston, Miss. Catherine Helen \"Carrie\"</td>\n    </tr>\n    <tr>\n      <th>889</th>\n      <td>Behr, Mr. Karl Howell</td>\n    </tr>\n    <tr>\n      <th>890</th>\n      <td>Dooley, Mr. Patrick</td>\n    </tr>\n  </tbody>\n</table>\n<p>891 rows × 1 columns</p>\n</div>",
                        "text/plain": "                                                  Name\n0                              Braund, Mr. Owen Harris\n1    Cumings, Mrs. John Bradley (Florence Briggs Th...\n2                               Heikkinen, Miss. Laina\n3         Futrelle, Mrs. Jacques Heath (Lily May Peel)\n4                             Allen, Mr. William Henry\n..                                                 ...\n886                              Montvila, Rev. Juozas\n887                       Graham, Miss. Margaret Edith\n888           Johnston, Miss. Catherine Helen \"Carrie\"\n889                              Behr, Mr. Karl Howell\n890                                Dooley, Mr. Patrick\n\n[891 rows x 1 columns]"
                    },
                    "metadata": {}
                }
            ],
            "execution_count": 10
        },
        {
            "cell_type": "code",
            "source": [
                "names = []  # Your list of text values (names)\n",
                "\n",
                "if not names:\n",
                "    print(\"The list of names is empty.\")\n",
                "else:\n",
                "    min_name = min(names)\n",
                "    print(\"The minimum name is:\", min_name)\n"
            ],
            "metadata": {
                "scrolled": true,
                "azdata_cell_guid": "82a59fcd-dc43-47f3-83b8-ffd69d85ff54",
                "language": "sql"
            },
            "outputs": [
                {
                    "output_type": "stream",
                    "name": "stdout",
                    "text": "The list of names is empty.\n"
                }
            ],
            "execution_count": 11
        },
        {
            "cell_type": "code",
            "source": [
                "import pandas as pd\n",
                "\n",
                "# Read the Titanic dataset into a DataFrame\n",
                "titanic = pd.read_csv('train.csv')\n",
                "\n",
                "# Display the first few rows of the DataFrame\n",
                "print(titanic.head())"
            ],
            "metadata": {
                "scrolled": false,
                "azdata_cell_guid": "ed7c10d5-0817-4a1d-ba20-364417a1a857",
                "language": "sql"
            },
            "outputs": [
                {
                    "output_type": "stream",
                    "name": "stdout",
                    "text": "   PassengerId  Survived  Pclass  \\\n0            1         0       3   \n1            2         1       1   \n2            3         1       3   \n3            4         1       1   \n4            5         0       3   \n\n                                                Name     Sex   Age  SibSp  \\\n0                            Braund, Mr. Owen Harris    male  22.0      1   \n1  Cumings, Mrs. John Bradley (Florence Briggs Th...  female  38.0      1   \n2                             Heikkinen, Miss. Laina  female  26.0      0   \n3       Futrelle, Mrs. Jacques Heath (Lily May Peel)  female  35.0      1   \n4                           Allen, Mr. William Henry    male  35.0      0   \n\n   Parch            Ticket     Fare Cabin Embarked  \n0      0         A/5 21171   7.2500   NaN        S  \n1      0          PC 17599  71.2833   C85        C  \n2      0  STON/O2. 3101282   7.9250   NaN        S  \n3      0            113803  53.1000  C123        S  \n4      0            373450   8.0500   NaN        S  \n"
                }
            ],
            "execution_count": 12
        },
        {
            "cell_type": "code",
            "source": [
                "data= pd.read_csv(\"C:\\\\Users\\\\TITILAYO\\\\Downloads\\\\Name.CSV\")\n",
                "data"
            ],
            "metadata": {
                "scrolled": true,
                "azdata_cell_guid": "4f36e5e7-b500-440f-8220-c39476e837e5",
                "language": "sql"
            },
            "outputs": [
                {
                    "output_type": "execute_result",
                    "execution_count": 13,
                    "data": {
                        "text/html": "<div>\n<style scoped>\n    .dataframe tbody tr th:only-of-type {\n        vertical-align: middle;\n    }\n\n    .dataframe tbody tr th {\n        vertical-align: top;\n    }\n\n    .dataframe thead th {\n        text-align: right;\n    }\n</style>\n<table border=\"1\" class=\"dataframe\">\n  <thead>\n    <tr style=\"text-align: right;\">\n      <th></th>\n      <th>Name</th>\n    </tr>\n  </thead>\n  <tbody>\n    <tr>\n      <th>0</th>\n      <td>Braund, Mr. Owen Harris</td>\n    </tr>\n    <tr>\n      <th>1</th>\n      <td>Cumings, Mrs. John Bradley (Florence Briggs Th...</td>\n    </tr>\n    <tr>\n      <th>2</th>\n      <td>Heikkinen, Miss. Laina</td>\n    </tr>\n    <tr>\n      <th>3</th>\n      <td>Futrelle, Mrs. Jacques Heath (Lily May Peel)</td>\n    </tr>\n    <tr>\n      <th>4</th>\n      <td>Allen, Mr. William Henry</td>\n    </tr>\n    <tr>\n      <th>...</th>\n      <td>...</td>\n    </tr>\n    <tr>\n      <th>886</th>\n      <td>Montvila, Rev. Juozas</td>\n    </tr>\n    <tr>\n      <th>887</th>\n      <td>Graham, Miss. Margaret Edith</td>\n    </tr>\n    <tr>\n      <th>888</th>\n      <td>Johnston, Miss. Catherine Helen \"Carrie\"</td>\n    </tr>\n    <tr>\n      <th>889</th>\n      <td>Behr, Mr. Karl Howell</td>\n    </tr>\n    <tr>\n      <th>890</th>\n      <td>Dooley, Mr. Patrick</td>\n    </tr>\n  </tbody>\n</table>\n<p>891 rows × 1 columns</p>\n</div>",
                        "text/plain": "                                                  Name\n0                              Braund, Mr. Owen Harris\n1    Cumings, Mrs. John Bradley (Florence Briggs Th...\n2                               Heikkinen, Miss. Laina\n3         Futrelle, Mrs. Jacques Heath (Lily May Peel)\n4                             Allen, Mr. William Henry\n..                                                 ...\n886                              Montvila, Rev. Juozas\n887                       Graham, Miss. Margaret Edith\n888           Johnston, Miss. Catherine Helen \"Carrie\"\n889                              Behr, Mr. Karl Howell\n890                                Dooley, Mr. Patrick\n\n[891 rows x 1 columns]"
                    },
                    "metadata": {}
                }
            ],
            "execution_count": 13
        },
        {
            "cell_type": "markdown",
            "source": [
                "since data is text value, i would exempt all text value from the boxplot visuals"
            ],
            "metadata": {
                "azdata_cell_guid": "988e68ce-d989-42f5-9467-933e45ff9b01"
            }
        },
        {
            "cell_type": "code",
            "source": [
                "data= pd.read_csv(\"C:\\\\Users\\\\TITILAYO\\\\Downloads\\\\Passengerid.CSV\")\n",
                "data"
            ],
            "metadata": {
                "azdata_cell_guid": "c4d0c4f9-8a57-43ea-8e66-3582f794c993",
                "language": "sql"
            },
            "outputs": [
                {
                    "output_type": "execute_result",
                    "execution_count": 14,
                    "data": {
                        "text/html": "<div>\n<style scoped>\n    .dataframe tbody tr th:only-of-type {\n        vertical-align: middle;\n    }\n\n    .dataframe tbody tr th {\n        vertical-align: top;\n    }\n\n    .dataframe thead th {\n        text-align: right;\n    }\n</style>\n<table border=\"1\" class=\"dataframe\">\n  <thead>\n    <tr style=\"text-align: right;\">\n      <th></th>\n      <th>PassengerId</th>\n    </tr>\n  </thead>\n  <tbody>\n    <tr>\n      <th>0</th>\n      <td>1</td>\n    </tr>\n    <tr>\n      <th>1</th>\n      <td>2</td>\n    </tr>\n    <tr>\n      <th>2</th>\n      <td>3</td>\n    </tr>\n    <tr>\n      <th>3</th>\n      <td>4</td>\n    </tr>\n    <tr>\n      <th>4</th>\n      <td>5</td>\n    </tr>\n    <tr>\n      <th>...</th>\n      <td>...</td>\n    </tr>\n    <tr>\n      <th>886</th>\n      <td>887</td>\n    </tr>\n    <tr>\n      <th>887</th>\n      <td>888</td>\n    </tr>\n    <tr>\n      <th>888</th>\n      <td>889</td>\n    </tr>\n    <tr>\n      <th>889</th>\n      <td>890</td>\n    </tr>\n    <tr>\n      <th>890</th>\n      <td>891</td>\n    </tr>\n  </tbody>\n</table>\n<p>891 rows × 1 columns</p>\n</div>",
                        "text/plain": "     PassengerId\n0              1\n1              2\n2              3\n3              4\n4              5\n..           ...\n886          887\n887          888\n888          889\n889          890\n890          891\n\n[891 rows x 1 columns]"
                    },
                    "metadata": {}
                }
            ],
            "execution_count": 14
        },
        {
            "cell_type": "code",
            "source": [
                "data= pd.read_csv(\"C:\\\\Users\\\\TITILAYO\\\\Downloads\\\\Age.CSV\")\n",
                "data"
            ],
            "metadata": {
                "scrolled": true,
                "azdata_cell_guid": "bac6d2ba-e67a-4947-9bdf-f557691db6c6",
                "language": "sql"
            },
            "outputs": [
                {
                    "output_type": "execute_result",
                    "execution_count": 16,
                    "data": {
                        "text/html": "<div>\n<style scoped>\n    .dataframe tbody tr th:only-of-type {\n        vertical-align: middle;\n    }\n\n    .dataframe tbody tr th {\n        vertical-align: top;\n    }\n\n    .dataframe thead th {\n        text-align: right;\n    }\n</style>\n<table border=\"1\" class=\"dataframe\">\n  <thead>\n    <tr style=\"text-align: right;\">\n      <th></th>\n      <th>Age</th>\n    </tr>\n  </thead>\n  <tbody>\n    <tr>\n      <th>0</th>\n      <td>22.0</td>\n    </tr>\n    <tr>\n      <th>1</th>\n      <td>38.0</td>\n    </tr>\n    <tr>\n      <th>2</th>\n      <td>26.0</td>\n    </tr>\n    <tr>\n      <th>3</th>\n      <td>35.0</td>\n    </tr>\n    <tr>\n      <th>4</th>\n      <td>35.0</td>\n    </tr>\n    <tr>\n      <th>...</th>\n      <td>...</td>\n    </tr>\n    <tr>\n      <th>709</th>\n      <td>39.0</td>\n    </tr>\n    <tr>\n      <th>710</th>\n      <td>27.0</td>\n    </tr>\n    <tr>\n      <th>711</th>\n      <td>19.0</td>\n    </tr>\n    <tr>\n      <th>712</th>\n      <td>26.0</td>\n    </tr>\n    <tr>\n      <th>713</th>\n      <td>32.0</td>\n    </tr>\n  </tbody>\n</table>\n<p>714 rows × 1 columns</p>\n</div>",
                        "text/plain": "      Age\n0    22.0\n1    38.0\n2    26.0\n3    35.0\n4    35.0\n..    ...\n709  39.0\n710  27.0\n711  19.0\n712  26.0\n713  32.0\n\n[714 rows x 1 columns]"
                    },
                    "metadata": {}
                }
            ],
            "execution_count": 16
        },
        {
            "cell_type": "code",
            "source": [
                "import seaborn as sns\n",
                "import pandas as pd\n",
                "data= pd.read_csv(\"C:\\\\Users\\\\TITILAYO\\\\Downloads\\\\Age.CSV\")\n",
                "sns.boxplot(data=data)\n",
                "plt.show()"
            ],
            "metadata": {
                "scrolled": false,
                "azdata_cell_guid": "f4231f15-45e4-43e7-9153-64426fe3cdb6",
                "language": "sql"
            },
            "outputs": [
                {
                    "output_type": "display_data",
                    "data": {
                        "image/png": "[encoded data removed]",
                        "text/plain": "<Figure size 640x480 with 1 Axes>"
                    },
                    "metadata": {}
                }
            ],
            "execution_count": 17
        },
        {
            "cell_type": "code",
            "source": [
                "data= pd.read_csv(\"C:\\\\Users\\\\TITILAYO\\\\Downloads\\\\SibSp.CSV\")\n",
                "data"
            ],
            "metadata": {
                "scrolled": true,
                "azdata_cell_guid": "6c5e0639-9f6e-475a-9723-8412d95a8f35",
                "language": "sql"
            },
            "outputs": [
                {
                    "output_type": "execute_result",
                    "execution_count": 18,
                    "data": {
                        "text/html": "<div>\n<style scoped>\n    .dataframe tbody tr th:only-of-type {\n        vertical-align: middle;\n    }\n\n    .dataframe tbody tr th {\n        vertical-align: top;\n    }\n\n    .dataframe thead th {\n        text-align: right;\n    }\n</style>\n<table border=\"1\" class=\"dataframe\">\n  <thead>\n    <tr style=\"text-align: right;\">\n      <th></th>\n      <th>SibSp</th>\n    </tr>\n  </thead>\n  <tbody>\n    <tr>\n      <th>0</th>\n      <td>1</td>\n    </tr>\n    <tr>\n      <th>1</th>\n      <td>1</td>\n    </tr>\n    <tr>\n      <th>2</th>\n      <td>0</td>\n    </tr>\n    <tr>\n      <th>3</th>\n      <td>1</td>\n    </tr>\n    <tr>\n      <th>4</th>\n      <td>0</td>\n    </tr>\n    <tr>\n      <th>...</th>\n      <td>...</td>\n    </tr>\n    <tr>\n      <th>886</th>\n      <td>0</td>\n    </tr>\n    <tr>\n      <th>887</th>\n      <td>0</td>\n    </tr>\n    <tr>\n      <th>888</th>\n      <td>1</td>\n    </tr>\n    <tr>\n      <th>889</th>\n      <td>0</td>\n    </tr>\n    <tr>\n      <th>890</th>\n      <td>0</td>\n    </tr>\n  </tbody>\n</table>\n<p>891 rows × 1 columns</p>\n</div>",
                        "text/plain": "     SibSp\n0        1\n1        1\n2        0\n3        1\n4        0\n..     ...\n886      0\n887      0\n888      1\n889      0\n890      0\n\n[891 rows x 1 columns]"
                    },
                    "metadata": {}
                }
            ],
            "execution_count": 18
        },
        {
            "cell_type": "code",
            "source": [
                "import seaborn as sns\n",
                "import pandas as pd\n",
                "data= pd.read_csv(\"C:\\\\Users\\\\TITILAYO\\\\Downloads\\\\SibSp.CSV\")\n",
                "sns.boxplot(data=data)\n",
                "plt.show()"
            ],
            "metadata": {
                "scrolled": true,
                "azdata_cell_guid": "5e7d9530-1a3c-42b0-b772-8d27ab4130d0",
                "language": "sql"
            },
            "outputs": [
                {
                    "output_type": "display_data",
                    "data": {
                        "image/png": "[encoded data removed]",
                        "text/plain": "<Figure size 640x480 with 1 Axes>"
                    },
                    "metadata": {}
                }
            ],
            "execution_count": 19
        },
        {
            "cell_type": "code",
            "source": [
                "data= pd.read_csv(\"C:\\\\Users\\\\TITILAYO\\\\Downloads\\\\Parch.CSV\")\n",
                "data"
            ],
            "metadata": {
                "scrolled": true,
                "azdata_cell_guid": "84acddac-d13e-4586-b268-e49098fdfb8e",
                "language": "sql"
            },
            "outputs": [
                {
                    "output_type": "execute_result",
                    "execution_count": 20,
                    "data": {
                        "text/html": "<div>\n<style scoped>\n    .dataframe tbody tr th:only-of-type {\n        vertical-align: middle;\n    }\n\n    .dataframe tbody tr th {\n        vertical-align: top;\n    }\n\n    .dataframe thead th {\n        text-align: right;\n    }\n</style>\n<table border=\"1\" class=\"dataframe\">\n  <thead>\n    <tr style=\"text-align: right;\">\n      <th></th>\n      <th>Parch</th>\n    </tr>\n  </thead>\n  <tbody>\n    <tr>\n      <th>0</th>\n      <td>0</td>\n    </tr>\n    <tr>\n      <th>1</th>\n      <td>0</td>\n    </tr>\n    <tr>\n      <th>2</th>\n      <td>0</td>\n    </tr>\n    <tr>\n      <th>3</th>\n      <td>0</td>\n    </tr>\n    <tr>\n      <th>4</th>\n      <td>0</td>\n    </tr>\n    <tr>\n      <th>...</th>\n      <td>...</td>\n    </tr>\n    <tr>\n      <th>886</th>\n      <td>0</td>\n    </tr>\n    <tr>\n      <th>887</th>\n      <td>0</td>\n    </tr>\n    <tr>\n      <th>888</th>\n      <td>2</td>\n    </tr>\n    <tr>\n      <th>889</th>\n      <td>0</td>\n    </tr>\n    <tr>\n      <th>890</th>\n      <td>0</td>\n    </tr>\n  </tbody>\n</table>\n<p>891 rows × 1 columns</p>\n</div>",
                        "text/plain": "     Parch\n0        0\n1        0\n2        0\n3        0\n4        0\n..     ...\n886      0\n887      0\n888      2\n889      0\n890      0\n\n[891 rows x 1 columns]"
                    },
                    "metadata": {}
                }
            ],
            "execution_count": 20
        },
        {
            "cell_type": "code",
            "source": [
                "import seaborn as sns\n",
                "import pandas as pd\n",
                "data= pd.read_csv(\"C:\\\\Users\\\\TITILAYO\\\\Downloads\\\\Parch.CSV\")\n",
                "sns.boxplot(data=data)\n",
                "plt.show()"
            ],
            "metadata": {
                "scrolled": true,
                "azdata_cell_guid": "0b6cbfaa-a25a-4321-927f-6641fd3dee33",
                "language": "sql"
            },
            "outputs": [
                {
                    "output_type": "display_data",
                    "data": {
                        "image/png": "[encoded data removed]",
                        "text/plain": "<Figure size 640x480 with 1 Axes>"
                    },
                    "metadata": {}
                }
            ],
            "execution_count": 21
        },
        {
            "cell_type": "code",
            "source": [
                "data= pd.read_csv(\"C:\\\\Users\\\\TITILAYO\\\\Downloads\\\\Fare.CSV\")\n",
                "data"
            ],
            "metadata": {
                "azdata_cell_guid": "eecf463d-9fd7-4b74-8641-4d43216f4d60",
                "language": "sql"
            },
            "outputs": [
                {
                    "output_type": "execute_result",
                    "execution_count": 22,
                    "data": {
                        "text/html": "<div>\n<style scoped>\n    .dataframe tbody tr th:only-of-type {\n        vertical-align: middle;\n    }\n\n    .dataframe tbody tr th {\n        vertical-align: top;\n    }\n\n    .dataframe thead th {\n        text-align: right;\n    }\n</style>\n<table border=\"1\" class=\"dataframe\">\n  <thead>\n    <tr style=\"text-align: right;\">\n      <th></th>\n      <th>Fare</th>\n    </tr>\n  </thead>\n  <tbody>\n    <tr>\n      <th>0</th>\n      <td>7.2500</td>\n    </tr>\n    <tr>\n      <th>1</th>\n      <td>71.2833</td>\n    </tr>\n    <tr>\n      <th>2</th>\n      <td>7.9250</td>\n    </tr>\n    <tr>\n      <th>3</th>\n      <td>53.1000</td>\n    </tr>\n    <tr>\n      <th>4</th>\n      <td>8.0500</td>\n    </tr>\n    <tr>\n      <th>...</th>\n      <td>...</td>\n    </tr>\n    <tr>\n      <th>886</th>\n      <td>13.0000</td>\n    </tr>\n    <tr>\n      <th>887</th>\n      <td>30.0000</td>\n    </tr>\n    <tr>\n      <th>888</th>\n      <td>23.4500</td>\n    </tr>\n    <tr>\n      <th>889</th>\n      <td>30.0000</td>\n    </tr>\n    <tr>\n      <th>890</th>\n      <td>7.7500</td>\n    </tr>\n  </tbody>\n</table>\n<p>891 rows × 1 columns</p>\n</div>",
                        "text/plain": "        Fare\n0     7.2500\n1    71.2833\n2     7.9250\n3    53.1000\n4     8.0500\n..       ...\n886  13.0000\n887  30.0000\n888  23.4500\n889  30.0000\n890   7.7500\n\n[891 rows x 1 columns]"
                    },
                    "metadata": {}
                }
            ],
            "execution_count": 22
        },
        {
            "cell_type": "code",
            "source": [
                "import seaborn as sns\n",
                "import pandas as pd\n",
                "data= pd.read_csv(\"C:\\\\Users\\\\TITILAYO\\\\Downloads\\\\Fare.CSV\")\n",
                "sns.boxplot(data=data)\n",
                "plt.show()"
            ],
            "metadata": {
                "scrolled": true,
                "azdata_cell_guid": "f98c72d4-45ee-48bd-ad62-1db4f897bb33",
                "language": "sql"
            },
            "outputs": [
                {
                    "output_type": "display_data",
                    "data": {
                        "image/png": "[encoded data removed]",
                        "text/plain": "<Figure size 640x480 with 1 Axes>"
                    },
                    "metadata": {}
                }
            ],
            "execution_count": 23
        },
        {
            "cell_type": "markdown",
            "source": [
                "We will find the IQR for the variables seen above"
            ],
            "metadata": {
                "azdata_cell_guid": "18e3936a-2fbd-4014-9d0a-c75112a0740a"
            }
        },
        {
            "cell_type": "markdown",
            "source": [
                "PassengerId: IQR = 446 - 223.5 = 222.5\n",
                "\n",
                "Survived: IQR = 1 - 0 = 1\n",
                "\n",
                "Pclass: IQR = 3 - 2 = 1\n",
                "\n",
                "Age: IQR = 35 - 20 = 15\n",
                "\n",
                "SibSp: IQR = 1 - 0 = 1\n",
                "\n",
                "Parch: IQR = 0 - 0 = 0\n",
                "\n",
                "Fare: IQR = 31 - 7.91 = 23.09\n",
                "    \n",
                "    Find below the ranges that define the outliers for each variable in the above IQR.\n",
                "\n",
                "PassengerId: Outlier < 223.5 - 1.5 * 222.5 = -110.75 or Outlier > 446 + 1.5 * 222.5 = 780.25\n",
                "\n",
                "Survived: Outlier < 0 - 1.5 * 1 = -1.5 or Outlier > 1 + 1.5 * 1 = 2.5\n",
                "\n",
                "Pclass: Outlier < 2 - 1.5 * 1 = 0.5 or Outlier > 3 + 1.5 * 1 = 4.5\n",
                "\n",
                "Age: Outlier < 20 - 1.5 * 15 = -2.5 or Outlier > 35 + 1.5 * 15 = 57.5\n",
                "\n",
                "SibSp: Outlier < 0 - 1.5 * 1 = -1.5 or Outlier > 1 + 1.5 * 1 = 2.\n",
                "\n",
                "Parch: Outlier < 0 - 1.5 * 0 = 0 or Outlier > 0 + 1.5 * 0 = 0\n",
                "\n",
                "Fare: Outlier < 7.91 - 1.5 * 23.09 = -26.535 or Outlier > 31 + 1.5 * 23.09 = 65   "
            ],
            "metadata": {
                "azdata_cell_guid": "3d2b9a0f-8654-453a-bbf7-0dd8586a788b"
            }
        },
        {
            "cell_type": "markdown",
            "source": [
                "To count the number of outliers if an outlier is defined as lying outside 1.5 * the IQR\n"
            ],
            "metadata": {
                "azdata_cell_guid": "c58e70a6-851a-4bb7-b1ed-23d8a913dcaf"
            }
        },
        {
            "cell_type": "markdown",
            "source": [
                "PassengerId: There are 0 outliers in the PassengerId variable, as all values are within the range of [111,779].\n",
                "\n",
                "Survived: There are 0 outliers in the Survived variable, as all values are either 0 or 1.\n",
                "\n",
                "Pclass: There are 0 outliers in the Pclass variable, as all values are either 1, 2, or 3.\n",
                "\n",
                "Age: There are 11 outliers in the Age variable, which are either less than -2.5 or greater than 57.5.\n",
                "\n",
                "SibSp: There are 46 outliers in the SibSp variable, which are either less than -1.5 or greater than 2.5.\n",
                "\n",
                "Parch: There are 213 outliers in the Parch variable, which are either less than 0 or greater than 0.\n",
                "\n",
                "Fare: There are 116 outliers in the Fare variable, which are either less than -26.535 or greater than 65.445."
            ],
            "metadata": {
                "azdata_cell_guid": "0a8ac225-03b2-4e75-bb2f-69be3f9a82f0"
            }
        },
        {
            "cell_type": "markdown",
            "source": [
                "Total numbers of outliers for variables mentioned above is 441\n",
                "The outlier is 49.5 % of the data"
            ],
            "metadata": {
                "azdata_cell_guid": "411eab97-f3ca-4bec-9dac-6cd085aa44ef"
            }
        },
        {
            "cell_type": "code",
            "source": [
                " data = pd.read_csv(\"C:\\\\Users\\\\TITILAYO\\\\Downloads\\\\titanic.CSV\")\n",
                " data"
            ],
            "metadata": {
                "azdata_cell_guid": "0a0256ed-7add-47fe-95d4-5ec604ffee2e",
                "language": "sql"
            },
            "outputs": [
                {
                    "output_type": "execute_result",
                    "execution_count": 30,
                    "data": {
                        "text/html": "<div>\n<style scoped>\n    .dataframe tbody tr th:only-of-type {\n        vertical-align: middle;\n    }\n\n    .dataframe tbody tr th {\n        vertical-align: top;\n    }\n\n    .dataframe thead th {\n        text-align: right;\n    }\n</style>\n<table border=\"1\" class=\"dataframe\">\n  <thead>\n    <tr style=\"text-align: right;\">\n      <th></th>\n      <th>PassengerId\\tSurvived\\tPclass\\tName\\tSex\\tAge\\tSibSp\\tParch\\tTicket\\tFare\\tCabin\\tEmbarked</th>\n    </tr>\n  </thead>\n  <tbody>\n    <tr>\n      <th>1\\t0\\t3\\tBraund</th>\n      <td>Mr. Owen Harris\\tmale\\t22\\t1\\t0\\tA/5 21171\\t7...</td>\n    </tr>\n    <tr>\n      <th>2\\t1\\t1\\tCumings</th>\n      <td>Mrs. John Bradley (Florence Briggs Thayer)\\tf...</td>\n    </tr>\n    <tr>\n      <th>3\\t1\\t3\\tHeikkinen</th>\n      <td>Miss. Laina\\tfemale\\t26\\t0\\t0\\tSTON/O2. 31012...</td>\n    </tr>\n    <tr>\n      <th>4\\t1\\t1\\tFutrelle</th>\n      <td>Mrs. Jacques Heath (Lily May Peel)\\tfemale\\t3...</td>\n    </tr>\n    <tr>\n      <th>5\\t0\\t3\\tAllen</th>\n      <td>Mr. William Henry\\tmale\\t35\\t0\\t0\\t373450\\t8....</td>\n    </tr>\n    <tr>\n      <th>...</th>\n      <td>...</td>\n    </tr>\n    <tr>\n      <th>152\\t1\\t1\\tPears</th>\n      <td>Mrs. Thomas (Edith Wearne)\\tfemale\\t22\\t1\\t0\\...</td>\n    </tr>\n    <tr>\n      <th>153\\t0\\t3\\tMeo</th>\n      <td>Mr. Alfonzo\\tmale\\t55.5\\t0\\t0\\tA.5. 11206\\t8....</td>\n    </tr>\n    <tr>\n      <th>154\\t0\\t3\\tvan Billiard</th>\n      <td>Mr. Austin Blyler\\tmale\\t40.5\\t0\\t2\\tA/5. 851...</td>\n    </tr>\n    <tr>\n      <th>155\\t0\\t3\\tOlsen</th>\n      <td>Mr. Ole Martin\\tmale\\t\\t0\\t0\\tFa 265302\\t7.31...</td>\n    </tr>\n    <tr>\n      <th>156\\t0\\t1\\tWilliams</th>\n      <td>Mr. Charles Duane\\tmale\\t51\\t0\\t1\\tPC 17597\\t...</td>\n    </tr>\n  </tbody>\n</table>\n<p>156 rows × 1 columns</p>\n</div>",
                        "text/plain": "                        PassengerId\\tSurvived\\tPclass\\tName\\tSex\\tAge\\tSibSp\\tParch\\tTicket\\tFare\\tCabin\\tEmbarked\n1\\t0\\t3\\tBraund           Mr. Owen Harris\\tmale\\t22\\t1\\t0\\tA/5 21171\\t7...                                        \n2\\t1\\t1\\tCumings          Mrs. John Bradley (Florence Briggs Thayer)\\tf...                                        \n3\\t1\\t3\\tHeikkinen        Miss. Laina\\tfemale\\t26\\t0\\t0\\tSTON/O2. 31012...                                        \n4\\t1\\t1\\tFutrelle         Mrs. Jacques Heath (Lily May Peel)\\tfemale\\t3...                                        \n5\\t0\\t3\\tAllen            Mr. William Henry\\tmale\\t35\\t0\\t0\\t373450\\t8....                                        \n...                                                                    ...                                        \n152\\t1\\t1\\tPears          Mrs. Thomas (Edith Wearne)\\tfemale\\t22\\t1\\t0\\...                                        \n153\\t0\\t3\\tMeo            Mr. Alfonzo\\tmale\\t55.5\\t0\\t0\\tA.5. 11206\\t8....                                        \n154\\t0\\t3\\tvan Billiard   Mr. Austin Blyler\\tmale\\t40.5\\t0\\t2\\tA/5. 851...                                        \n155\\t0\\t3\\tOlsen          Mr. Ole Martin\\tmale\\t\\t0\\t0\\tFa 265302\\t7.31...                                        \n156\\t0\\t1\\tWilliams       Mr. Charles Duane\\tmale\\t51\\t0\\t1\\tPC 17597\\t...                                        \n\n[156 rows x 1 columns]"
                    },
                    "metadata": {}
                }
            ],
            "execution_count": 30
        },
        {
            "cell_type": "markdown",
            "source": [
                "To calculate the number of outliers in the Titanic dataset using code, i will use a common method based on the interquartile range (IQR). Here's an example code that calculates the number of outliers for each numerical column in the dataset:"
            ],
            "metadata": {
                "azdata_cell_guid": "5125936f-461e-4aa6-a065-f307a2c216f5"
            }
        },
        {
            "cell_type": "code",
            "source": [
                "\n",
                "data= pd.read_csv('C:\\\\Users\\\\TITILAYO\\\\Downloads\\\\titanic.csv')\n",
                "print(data)"
            ],
            "metadata": {
                "scrolled": true,
                "azdata_cell_guid": "afaaaacf-979c-48fd-9f83-f6a79c00a058",
                "language": "sql"
            },
            "outputs": [
                {
                    "output_type": "stream",
                    "name": "stdout",
                    "text": "                        PassengerId\\tSurvived\\tPclass\\tName\\tSex\\tAge\\tSibSp\\tParch\\tTicket\\tFare\\tCabin\\tEmbarked\n1\\t0\\t3\\tBraund           Mr. Owen Harris\\tmale\\t22\\t1\\t0\\tA/5 21171\\t7...                                        \n2\\t1\\t1\\tCumings          Mrs. John Bradley (Florence Briggs Thayer)\\tf...                                        \n3\\t1\\t3\\tHeikkinen        Miss. Laina\\tfemale\\t26\\t0\\t0\\tSTON/O2. 31012...                                        \n4\\t1\\t1\\tFutrelle         Mrs. Jacques Heath (Lily May Peel)\\tfemale\\t3...                                        \n5\\t0\\t3\\tAllen            Mr. William Henry\\tmale\\t35\\t0\\t0\\t373450\\t8....                                        \n...                                                                    ...                                        \n152\\t1\\t1\\tPears          Mrs. Thomas (Edith Wearne)\\tfemale\\t22\\t1\\t0\\...                                        \n153\\t0\\t3\\tMeo            Mr. Alfonzo\\tmale\\t55.5\\t0\\t0\\tA.5. 11206\\t8....                                        \n154\\t0\\t3\\tvan Billiard   Mr. Austin Blyler\\tmale\\t40.5\\t0\\t2\\tA/5. 851...                                        \n155\\t0\\t3\\tOlsen          Mr. Ole Martin\\tmale\\t\\t0\\t0\\tFa 265302\\t7.31...                                        \n156\\t0\\t1\\tWilliams       Mr. Charles Duane\\tmale\\t51\\t0\\t1\\tPC 17597\\t...                                        \n\n[156 rows x 1 columns]\n"
                }
            ],
            "execution_count": 40
        },
        {
            "cell_type": "code",
            "source": [
                "titanic = pd.read_csv('train.csv')\n",
                "print(titanic)"
            ],
            "metadata": {
                "azdata_cell_guid": "83a41548-7324-4096-911a-26ca40aaae90",
                "language": "sql"
            },
            "outputs": [
                {
                    "output_type": "stream",
                    "name": "stdout",
                    "text": "     PassengerId  Survived  Pclass  \\\n0              1         0       3   \n1              2         1       1   \n2              3         1       3   \n3              4         1       1   \n4              5         0       3   \n..           ...       ...     ...   \n886          887         0       2   \n887          888         1       1   \n888          889         0       3   \n889          890         1       1   \n890          891         0       3   \n\n                                                  Name     Sex   Age  SibSp  \\\n0                              Braund, Mr. Owen Harris    male  22.0      1   \n1    Cumings, Mrs. John Bradley (Florence Briggs Th...  female  38.0      1   \n2                               Heikkinen, Miss. Laina  female  26.0      0   \n3         Futrelle, Mrs. Jacques Heath (Lily May Peel)  female  35.0      1   \n4                             Allen, Mr. William Henry    male  35.0      0   \n..                                                 ...     ...   ...    ...   \n886                              Montvila, Rev. Juozas    male  27.0      0   \n887                       Graham, Miss. Margaret Edith  female  19.0      0   \n888           Johnston, Miss. Catherine Helen \"Carrie\"  female   NaN      1   \n889                              Behr, Mr. Karl Howell    male  26.0      0   \n890                                Dooley, Mr. Patrick    male  32.0      0   \n\n     Parch            Ticket     Fare Cabin Embarked  \n0        0         A/5 21171   7.2500   NaN        S  \n1        0          PC 17599  71.2833   C85        C  \n2        0  STON/O2. 3101282   7.9250   NaN        S  \n3        0            113803  53.1000  C123        S  \n4        0            373450   8.0500   NaN        S  \n..     ...               ...      ...   ...      ...  \n886      0            211536  13.0000   NaN        S  \n887      0            112053  30.0000   B42        S  \n888      2        W./C. 6607  23.4500   NaN        S  \n889      0            111369  30.0000  C148        C  \n890      0            370376   7.7500   NaN        Q  \n\n[891 rows x 12 columns]\n"
                }
            ],
            "execution_count": 13
        },
        {
            "cell_type": "code",
            "source": [
                "\n",
                "# Calculate the number of outliers for each numerical column\n",
                "outliers_count = 0\n",
                "\n",
                "for column in titanic.select_dtypes(include=['float64', 'int64']).columns:\n",
                "    # Calculate the IQR (Interquartile Range)\n",
                "    Q1 = titanic[column].quantile(0.25)\n",
                "    Q3 = titanic[column].quantile(0.75)\n",
                "    IQR = Q3 - Q1\n",
                "     # Define the outlier bounds\n",
                "    lower_bound = Q1 - 1.5 * IQR\n",
                "    upper_bound = Q3 + 1.5 * IQR\n",
                "     # Count the number of outliers\n",
                "    outliers_count += len(titanic[(titanic[column] < lower_bound) | (titanic[column] > upper_bound)])"
            ],
            "metadata": {
                "scrolled": true,
                "azdata_cell_guid": "b82369c9-0482-4973-b877-8a8d9d361ab0",
                "language": "sql"
            },
            "outputs": [],
            "execution_count": 15
        },
        {
            "cell_type": "code",
            "source": [
                "# Select numerical columns for outlier detection\n",
                "numerical_columns = titanic.select_dtypes(include=['float64', 'int64']).columns\n",
                "\n",
                "# Calculate the number of outliers for each numerical column\n",
                "outliers_count = {}\n",
                "\n",
                "for column in numerical_columns:\n",
                "    # Calculate the IQR (Interquartile Range)\n",
                "    Q1 = titanic[column].quantile(0.25)\n",
                "    Q3 = titanic[column].quantile(0.75)\n",
                "    IQR = Q3 - Q1\n",
                "\n",
                "    # Define the outlier bounds\n",
                "    lower_bound = Q1 - 1.5 * IQR\n",
                "    upper_bound = Q3 + 1.5 * IQR\n",
                "\n",
                "    # Count the number of outliers\n",
                "    outliers_count[column] = len(titanic[(titanic[column] < lower_bound) | (titanic[column] > upper_bound)])"
            ],
            "metadata": {
                "azdata_cell_guid": "d83b93a7-47d3-4f0e-addd-03bf401cd359",
                "language": "sql"
            },
            "outputs": [],
            "execution_count": 16
        },
        {
            "cell_type": "code",
            "source": [
                "# Display the number of outliers for each column\n",
                "for column, count in outliers_count.items():\n",
                "    print(f\"{column}: {count} outliers\")\n"
            ],
            "metadata": {
                "scrolled": false,
                "azdata_cell_guid": "b248bf5d-b4a2-4bc1-8918-daa4a985b921",
                "language": "sql"
            },
            "outputs": [
                {
                    "output_type": "stream",
                    "name": "stdout",
                    "text": "PassengerId: 0 outliers\nSurvived: 0 outliers\nPclass: 0 outliers\nAge: 11 outliers\nSibSp: 46 outliers\nParch: 213 outliers\nFare: 116 outliers\n"
                }
            ],
            "execution_count": 17
        },
        {
            "cell_type": "code",
            "source": [
                "# Calculate the total number of outliers for all numerical columns\n",
                "total_outliers_count = 0\n",
                "\n",
                "for column in titanic.select_dtypes(include=['float64', 'int64']).columns:\n",
                "    # Calculate the IQR (Interquartile Range)\n",
                "    Q1 = titanic[column].quantile(0.25)\n",
                "    Q3 = titanic[column].quantile(0.75)\n",
                "    IQR = Q3 - Q1"
            ],
            "metadata": {
                "azdata_cell_guid": "698b3b37-34ed-46d0-8a11-26ef4521095a",
                "language": "sql"
            },
            "outputs": [],
            "execution_count": 18
        },
        {
            "cell_type": "markdown",
            "source": [
                "I want to visualize the column with outliers and be able to easily point to the column with the highest outlier"
            ],
            "metadata": {
                "azdata_cell_guid": "b51fd7f8-3bca-413b-a88c-8ea91dd1bc44"
            }
        },
        {
            "cell_type": "code",
            "source": [
                "# Columns of interest\n",
                "columns_of_interest = ['PassengerId', 'Survived', 'Age', 'SibSp', 'Parch', 'Pclass', 'Fare']\n"
            ],
            "metadata": {
                "azdata_cell_guid": "2e25d8a8-c09d-4811-b906-ae680c3e2125",
                "language": "sql"
            },
            "outputs": [],
            "execution_count": 26
        },
        {
            "cell_type": "code",
            "source": [
                "# Create a bar chart for the number of outliers in each column\n",
                "plt.figure(figsize=(10, 6))\n",
                "plt.bar(outliers_count.keys(), outliers_count.values(), color='skyblue')\n",
                "plt.title('Number of Outliers in Each Column')\n",
                "plt.xlabel('Columns')\n",
                "plt.ylabel('Number of Outliers')\n",
                "plt.show()"
            ],
            "metadata": {
                "azdata_cell_guid": "cebc597b-b138-46b0-a1a4-7deab0fafe1e",
                "language": "sql"
            },
            "outputs": [
                {
                    "output_type": "display_data",
                    "data": {
                        "image/png": "[encoded data removed]",
                        "text/plain": "<Figure size 1000x600 with 1 Axes>"
                    },
                    "metadata": {}
                }
            ],
            "execution_count": 27
        },
        {
            "cell_type": "markdown",
            "source": [
                "Observation"
            ],
            "metadata": {
                "azdata_cell_guid": "9108f9ed-1865-4e12-95c2-f410d90c1268"
            }
        },
        {
            "cell_type": "markdown",
            "source": [
                "The barchart looks left skewed because for Passengerid,Survived and Pclass column,there are no outlers, indicating '0' outlier for the three column.But as far as this analysis is concerned it does not matter, my intention is to analyze using the chart to visualize the column with the highest outlier value."
            ],
            "metadata": {
                "azdata_cell_guid": "8170a6a3-63c7-494b-9103-a86826cec6dd"
            }
        },
        {
            "cell_type": "markdown",
            "source": [
                "Conclusion"
            ],
            "metadata": {
                "azdata_cell_guid": "83274b59-a870-4766-a81c-f2bb56f47237"
            }
        },
        {
            "cell_type": "markdown",
            "source": [
                "The outlier with the highest column(value) is Parch which has value 213 outliers."
            ],
            "metadata": {
                "azdata_cell_guid": "179e930b-8127-4a04-b89c-6ed3b1917271"
            }
        },
        {
            "cell_type": "code",
            "source": [],
            "metadata": {
                "azdata_cell_guid": "59ed10b9-4a88-4b0c-ad18-f3e79cc5adc2",
                "language": "sql"
            },
            "outputs": [],
            "execution_count": null
        }
    ]
}